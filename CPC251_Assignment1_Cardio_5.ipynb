{
 "cells": [
  {
   "cell_type": "markdown",
   "id": "8a19a5ee",
   "metadata": {},
   "source": [
    "# CPC 251 Assignment 1: Linear Regression Model and Gradient Descent Algorithm"
   ]
  },
  {
   "cell_type": "markdown",
   "id": "8d542061",
   "metadata": {},
   "source": [
    "Group Number: Cardio_5\n",
    "\n",
    "Group Members:\n",
    "\n",
    "1.   Ching Jia Ying (153463)\n",
    "2.   Chong Zhan Hang (151289)\n",
    "3.   Ooi Chen Liang (150827)\n",
    "4.   Tham Siew Teng (151396)\n",
    "\n",
    "Lecturer: Dr. Mohd Halim bin Mohd Noor"
   ]
  },
  {
   "cell_type": "markdown",
   "id": "3ecde4b9",
   "metadata": {},
   "source": [
    "This project aims to train the linear regression model by implementing gradient descent algorithm.\n",
    "\n",
    "The dataset provided is split into training set and test set with a ratio of 8:2.\n",
    "\n",
    "The linear regression model is finally evaluated using 2 popular performance metrics, which are R-squared and Mean Squared Error."
   ]
  },
  {
   "cell_type": "code",
   "execution_count": 35,
   "id": "b2ee455b",
   "metadata": {},
   "outputs": [],
   "source": [
    "import pandas as pd\n",
    "import numpy as np\n",
    "from matplotlib import pyplot as plt"
   ]
  },
  {
   "cell_type": "code",
   "execution_count": 36,
   "id": "6008606f",
   "metadata": {},
   "outputs": [],
   "source": [
    "#This function trains the model with the given input features vector and the response vector\n",
    "#alpha is the learning rate; max_epoch is the maximum epochs \n",
    "def train_model(X, y, alpha, max_epoch):\n",
    "  \n",
    "  #Get the number of samples and number of columns from the shape of input features vector\n",
    "  samples, columns = X.shape\n",
    "  \n",
    "  #Initialise the bias(w0) and the weights\n",
    "  w0 = 0\n",
    "  w_init = np.zeros(columns)\n",
    "  w = np.array(w_init)\n",
    "\n",
    "  hist_loss = []\n",
    "\n",
    "  #Update the value of weights and bias for every epoch \n",
    "  for i in range(max_epoch):\n",
    "    yhat = prediction(w, w0, X) #predict the response using the previous weight and bias\n",
    "    dw = (1 / samples) * np.dot(X.T, yhat - y)\n",
    "    dw0 = (1 / samples) * np.sum(yhat - y)\n",
    "    w = w - (alpha * dw) #update the weights for next epoch\n",
    "    w0 = w0 - (alpha * dw0) #update the bias for next epoch\n",
    "    \n",
    "    #Calculate the squared loss for regression\n",
    "    training_loss = loss_fn(y, yhat)\n",
    "\n",
    "    #Append the loss for the epoch into an array called hist_loss\n",
    "    hist_loss.append(training_loss)\n",
    "    \n",
    "  return w, w0, hist_loss"
   ]
  },
  {
   "cell_type": "code",
   "execution_count": 37,
   "id": "f8e09d38",
   "metadata": {},
   "outputs": [],
   "source": [
    "#This function predicts the response using the weights, bias, and the input features vector\n",
    "def prediction (w, w0, X):\n",
    "  yhat = np.dot(X, w) + w0\n",
    "  return yhat"
   ]
  },
  {
   "cell_type": "code",
   "execution_count": 38,
   "id": "d4074bd8",
   "metadata": {},
   "outputs": [],
   "source": [
    "#This function calculates the mean squared error\n",
    "def loss_fn(y, yhat):\n",
    "  loss = np.square(y - yhat).mean()\n",
    "  return loss"
   ]
  },
  {
   "cell_type": "code",
   "execution_count": 39,
   "id": "ac4e816d",
   "metadata": {},
   "outputs": [],
   "source": [
    "#This function calculates the R-squared score\n",
    "def r2_score(y, yhat):\n",
    "  SSE = np.sum(np.square(y - yhat))\n",
    "  SST = np.sum(np.square(y - y.mean()))\n",
    "  r2 = 1 - (SSE/SST)\n",
    "  return r2"
   ]
  },
  {
   "cell_type": "code",
   "execution_count": 40,
   "id": "eee2fb8c",
   "metadata": {},
   "outputs": [],
   "source": [
    "def main():\n",
    "  #read the dataset csv file and put into df variable\n",
    "  df = pd.read_csv('assignment1_dataset.csv', sep=',')\n",
    "\n",
    "  #perform splitting of dataset into training set and test set\n",
    "  from sklearn.model_selection import train_test_split\n",
    "\n",
    "  #let the array [f1, f2, f3, f4, f5] be the x array, and the last column of df be the y value, \n",
    "  #and the test size being 0.2 of the whole dataset \n",
    "  f_train, f_test, y_train, y_test = train_test_split(df[['f1','f2', 'f3', 'f4', 'f5']], df.iloc[:,-1], test_size=0.2, random_state=1)\n",
    "  \n",
    "  #display the shape of the split dataset to show dataset has been split into 8:2\n",
    "  print(\"The shape of f_train: \" + str(f_train.shape))\n",
    "  print(\"The shape of y_train: \" + str(y_train.shape))\n",
    "  print(\"The shape of f_test: \" + str(f_test.shape))\n",
    "  print(\"The shape of y_test: \" + str(y_test.shape))\n",
    "  print(\"\\n\\n\")\n",
    "\n",
    "  #Get the final weights and bias, and also the history of training loss by training the model\n",
    "  w, w0, hist_loss = train_model(f_train, y_train, 0.35, 100)\n",
    "  print(\"After training, the estimated weights w1, w2, w3, w4, w5 are\", str(w), \" with bias w0 of \", str(w0) + \"\\n\\n\")\n",
    "\n",
    "  #Display the training loss value for each epoch in the loop from hist_loss\n",
    "  print(\"The training loss for each epoch are:\\n\")\n",
    "  for i in range(len(hist_loss)):\n",
    "    print(\"Epoch \" + str(i+1) + \": \" + str(hist_loss[i]))\n",
    "\n",
    "  #Plot the graph of training loss against epoch\n",
    "  plt.plot(hist_loss)\n",
    "  plt.xlabel(\"Epoch\")\n",
    "  plt.ylabel(\"Training Loss\")\n",
    "  plt.title(\"Training Loss Against Epoch\")\n",
    "  plt.show()\n",
    "  \n",
    "  #Make a prediction yhat using the test set\n",
    "  yhat = prediction(w, w0, f_test)\n",
    "\n",
    "  #Display the performance metrics, ie Mean Squared Error and R-squared score of the prediction model\n",
    "  mean_squared_error = loss_fn(y_test, yhat)\n",
    "  print(\"\\n\\nThe mean squared error of the prediction model is \" + str(mean_squared_error))\n",
    "  print(\"\\n\\nThe R-squared score of the prediction model is \" + str(r2_score(y_test, yhat)) +\"\\n\\n\")\n",
    "\n",
    "  #Plot the predicted data against the actual data\n",
    "  plt.scatter(y_test, yhat)\n",
    "  plt.xlabel('$Y_i$')\n",
    "  plt.ylabel('$\\hat{Y}_i$')\n",
    "  plt.title('$Y_i$ vs $\\hat{Y}_i$')\n",
    "  #Plot the line oft prediction in red\n",
    "  x = np.linspace(-100, 100, 100)\n",
    "  y = x\n",
    "  plt.plot(x, y, 'r')\n"
   ]
  },
  {
   "cell_type": "code",
   "execution_count": 41,
   "id": "b2deec81",
   "metadata": {},
   "outputs": [
    {
     "name": "stdout",
     "output_type": "stream",
     "text": [
      "The shape of f_train: (800, 5)\n",
      "The shape of y_train: (800,)\n",
      "The shape of f_test: (200, 5)\n",
      "The shape of y_test: (200,)\n",
      "\n",
      "\n",
      "\n",
      "After training, the estimated weights w1, w2, w3, w4, w5 are [ 1.16593501e+01 -9.32274111e-03  2.44917050e-01  3.69639916e+01\n",
      "  1.46404941e-01]  with bias w0 of  9.628758358462148\n",
      "\n",
      "\n",
      "The training loss for each epoch are:\n",
      "\n",
      "Epoch 1: 1745.5521550944477\n",
      "Epoch 2: 688.7091597138901\n",
      "Epoch 3: 282.71893229695036\n",
      "Epoch 4: 125.70347174571745\n",
      "Epoch 5: 64.55414918019952\n",
      "Epoch 6: 40.56963355220418\n",
      "Epoch 7: 31.094357133773364\n",
      "Epoch 8: 27.324120976949104\n",
      "Epoch 9: 25.813282215084605\n",
      "Epoch 10: 25.20365659971719\n",
      "Epoch 11: 24.95603081278841\n",
      "Epoch 12: 24.854806991580258\n",
      "Epoch 13: 24.813180401526157\n",
      "Epoch 14: 24.7959659284711\n",
      "Epoch 15: 24.78880981390037\n",
      "Epoch 16: 24.78582068286105\n",
      "Epoch 17: 24.78456661139554\n",
      "Epoch 18: 24.78403836018729\n",
      "Epoch 19: 24.783815034249077\n",
      "Epoch 20: 24.783720308497863\n",
      "Epoch 21: 24.783680010058436\n",
      "Epoch 22: 24.783662820191672\n",
      "Epoch 23: 24.78365546988423\n",
      "Epoch 24: 24.783652320082215\n",
      "Epoch 25: 24.783650967658982\n",
      "Epoch 26: 24.783650385943623\n",
      "Epoch 27: 24.78365013533084\n",
      "Epoch 28: 24.783650027206086\n",
      "Epoch 29: 24.783649980495156\n",
      "Epoch 30: 24.783649960291424\n",
      "Epoch 31: 24.783649951543165\n",
      "Epoch 32: 24.783649947751407\n",
      "Epoch 33: 24.783649946106422\n",
      "Epoch 34: 24.783649945392135\n",
      "Epoch 35: 24.78364994508171\n",
      "Epoch 36: 24.78364994494679\n",
      "Epoch 37: 24.783649944888047\n",
      "Epoch 38: 24.783649944862432\n",
      "Epoch 39: 24.783649944851344\n",
      "Epoch 40: 24.783649944846466\n",
      "Epoch 41: 24.783649944844353\n",
      "Epoch 42: 24.783649944843447\n",
      "Epoch 43: 24.783649944843006\n",
      "Epoch 44: 24.783649944842836\n",
      "Epoch 45: 24.783649944842793\n",
      "Epoch 46: 24.783649944842768\n",
      "Epoch 47: 24.78364994484276\n",
      "Epoch 48: 24.78364994484275\n",
      "Epoch 49: 24.783649944842722\n",
      "Epoch 50: 24.783649944842708\n",
      "Epoch 51: 24.78364994484273\n",
      "Epoch 52: 24.78364994484273\n",
      "Epoch 53: 24.783649944842704\n",
      "Epoch 54: 24.783649944842697\n",
      "Epoch 55: 24.783649944842722\n",
      "Epoch 56: 24.783649944842733\n",
      "Epoch 57: 24.783649944842697\n",
      "Epoch 58: 24.78364994484273\n",
      "Epoch 59: 24.783649944842747\n",
      "Epoch 60: 24.783649944842733\n",
      "Epoch 61: 24.78364994484272\n",
      "Epoch 62: 24.78364994484272\n",
      "Epoch 63: 24.78364994484272\n",
      "Epoch 64: 24.78364994484272\n",
      "Epoch 65: 24.78364994484272\n",
      "Epoch 66: 24.78364994484274\n",
      "Epoch 67: 24.783649944842722\n",
      "Epoch 68: 24.783649944842715\n",
      "Epoch 69: 24.783649944842736\n",
      "Epoch 70: 24.78364994484273\n",
      "Epoch 71: 24.783649944842747\n",
      "Epoch 72: 24.78364994484276\n",
      "Epoch 73: 24.7836499448427\n",
      "Epoch 74: 24.78364994484269\n",
      "Epoch 75: 24.783649944842747\n",
      "Epoch 76: 24.783649944842715\n",
      "Epoch 77: 24.783649944842736\n",
      "Epoch 78: 24.78364994484269\n",
      "Epoch 79: 24.783649944842704\n",
      "Epoch 80: 24.783649944842704\n",
      "Epoch 81: 24.783649944842704\n",
      "Epoch 82: 24.783649944842704\n",
      "Epoch 83: 24.783649944842704\n",
      "Epoch 84: 24.78364994484272\n",
      "Epoch 85: 24.783649944842715\n",
      "Epoch 86: 24.783649944842733\n",
      "Epoch 87: 24.783649944842733\n",
      "Epoch 88: 24.783649944842733\n",
      "Epoch 89: 24.783649944842736\n",
      "Epoch 90: 24.783649944842736\n",
      "Epoch 91: 24.78364994484274\n",
      "Epoch 92: 24.78364994484274\n",
      "Epoch 93: 24.78364994484274\n",
      "Epoch 94: 24.78364994484274\n",
      "Epoch 95: 24.78364994484274\n",
      "Epoch 96: 24.78364994484274\n",
      "Epoch 97: 24.78364994484274\n",
      "Epoch 98: 24.78364994484274\n",
      "Epoch 99: 24.78364994484274\n",
      "Epoch 100: 24.78364994484274\n"
     ]
    },
    {
     "data": {
      "image/png": "[encoded data removed]",
      "text/plain": [
       "<Figure size 432x288 with 1 Axes>"
      ]
     },
     "metadata": {
      "needs_background": "light"
     },
     "output_type": "display_data"
    },
    {
     "name": "stdout",
     "output_type": "stream",
     "text": [
      "\n",
      "\n",
      "The mean squared error of the prediction model is 26.223414421712178\n",
      "\n",
      "\n",
      "The R-squared score of the prediction model is 0.9829151932668235\n",
      "\n",
      "\n"
     ]
    },
    {
     "data": {
      "image/png": "[encoded data removed]",
      "text/plain": [
       "<Figure size 432x288 with 1 Axes>"
      ]
     },
     "metadata": {
      "needs_background": "light"
     },
     "output_type": "display_data"
    }
   ],
   "source": [
    "if __name__==\"__main__\":\n",
    "  main()"
   ]
  }
 ],
 "metadata": {
  "kernelspec": {
   "display_name": "Python 3 (ipykernel)",
   "language": "python",
   "name": "python3"
  },
  "language_info": {
   "codemirror_mode": {
    "name": "ipython",
    "version": 3
   },
   "file_extension": ".py",
   "mimetype": "text/x-python",
   "name": "python",
   "nbconvert_exporter": "python",
   "pygments_lexer": "ipython3",
   "version": "3.9.7"
  }
 },
 "nbformat": 4,
 "nbformat_minor": 5
}
